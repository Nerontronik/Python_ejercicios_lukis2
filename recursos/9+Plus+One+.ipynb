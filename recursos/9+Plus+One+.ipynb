{
 "cells": [
  {
   "cell_type": "markdown",
   "id": "67cbf142",
   "metadata": {},
   "source": [
    "<br><br>\n",
    "\n",
    "# Plus One \n",
    "\n",
    "<br><br>\n",
    "\n",
    "> You are given a large integer represented as an integer array `digits`, where each `digits[i]` is the `i^th` digit of the integer. \n",
    "> The digits are ordered from most significant to least significant in left-to-right order. The large integer does not contain any leading `0`'s.\n",
    "\n",
    ">> Increment the large integer by one and return the resulting array of digits.\n",
    "\n",
    "<br>\n",
    "\n",
    "`Input: digits = [1,2,3]`\n",
    "\n",
    "<br>\n",
    "<br>\n",
    "\n",
    "# [ 9, 9 ]   \n",
    "\n",
    "<br>\n",
    "\n",
    "# [ 4, 9, 3, 9 ]\n",
    "\n",
    "\n",
    "<br><br><br>\n",
    "\n",
    "# [ 2, 4, 9, 3, 9 ]\n",
    "\n",
    "<br>\n",
    "\n",
    "# [ 2, 4, 9, 4, 4 ]\n",
    "\n",
    "\n",
    "\n",
    "\n",
    "\n",
    "<br><br><br><br><br><br><br><br><br><br><br><br><br><br><br>"
   ]
  },
  {
   "cell_type": "code",
   "execution_count": 1,
   "id": "ac1dfbfe",
   "metadata": {},
   "outputs": [],
   "source": [
    "from typing import List"
   ]
  },
  {
   "cell_type": "code",
   "execution_count": 2,
   "id": "b16c1c74",
   "metadata": {},
   "outputs": [],
   "source": [
    "class Solution:\n",
    "    def plusOne(self, digits: List[int]) -> List[int]:\n",
    "        dig_len = len(digits)\n",
    "        for i in reversed(range(dig_len)):\n",
    "            digits[i] += 1\n",
    "            if digits[i] < 10:\n",
    "                return digits\n",
    "            else:\n",
    "                digits[i] = 0\n",
    "        \n",
    "        if digits[0] == 0:\n",
    "            digits,insert(0,1)\n",
    "        \n",
    "        return digits\n",
    "            \n",
    "        \n",
    "        "
   ]
  },
  {
   "cell_type": "code",
   "execution_count": 3,
   "id": "b8c4be3a",
   "metadata": {},
   "outputs": [
    {
     "data": {
      "text/plain": [
       "[1, 2, 4]"
      ]
     },
     "execution_count": 3,
     "metadata": {},
     "output_type": "execute_result"
    }
   ],
   "source": [
    "digits = [1,2,3]\n",
    "\n",
    "sol = Solution()\n",
    "sol.plusOne(digits)"
   ]
  },
  {
   "cell_type": "code",
   "execution_count": null,
   "id": "2188bd98",
   "metadata": {},
   "outputs": [],
   "source": []
  }
 ],
 "metadata": {
  "kernelspec": {
   "display_name": "Python 3 (ipykernel)",
   "language": "python",
   "name": "python3"
  },
  "language_info": {
   "codemirror_mode": {
    "name": "ipython",
    "version": 3
   },
   "file_extension": ".py",
   "mimetype": "text/x-python",
   "name": "python",
   "nbconvert_exporter": "python",
   "pygments_lexer": "ipython3",
   "version": "3.9.12"
  }
 },
 "nbformat": 4,
 "nbformat_minor": 5
}
