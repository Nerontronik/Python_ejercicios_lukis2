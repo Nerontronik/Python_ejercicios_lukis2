{
 "cells": [
  {
   "cell_type": "markdown",
   "id": "e534eb56",
   "metadata": {},
   "source": [
    "<br><br>\n",
    "\n",
    "# Valid Perfect Square\n",
    "\n",
    "<br><br>\n",
    "\n",
    "> Given a positive integer num, write a function which returns True if num is a perfect square else False.\n",
    "\n",
    "> Follow up: Do not use any built-in library function such as `sqrt`\n",
    "\n",
    "\n",
    "\n",
    "<br>\n",
    "\n",
    "### Example 1:\n",
    "\n",
    "<br>\n",
    "\n",
    "`Input: num = 16`\n",
    "\n",
    "# 1 2 3 4 5 6 7 8 \n",
    "\n",
    "<br>\n",
    "\n",
    "### Example 2:\n",
    "\n",
    "<br>\n",
    "\n",
    "`Input: num = 14`\n",
    "\n",
    "# 1 2 3 4 5\n",
    "\n",
    "\n",
    "\n",
    "\n",
    "<br><br><br><br><br><br><br><br><br><br><br><br><br><br><br>"
   ]
  },
  {
   "cell_type": "code",
   "execution_count": 1,
   "id": "a4d80193",
   "metadata": {},
   "outputs": [],
   "source": [
    "from math import ceil"
   ]
  },
  {
   "cell_type": "code",
   "execution_count": 2,
   "id": "f616d05d",
   "metadata": {},
   "outputs": [],
   "source": [
    "class Solution:\n",
    "    def isPerfectSquare(self, num: int) -> bool:\n",
    "        left = 1\n",
    "        right = ceil(num / 2)\n",
    "        while left <= right:\n",
    "            mid = (left+right) // 2\n",
    "            sqr = mid*mid\n",
    "            if sqr == num:\n",
    "                return True\n",
    "            if sqr < num:\n",
    "                left = mid+1\n",
    "            else:\n",
    "                right = mid - 1\n",
    "        return False\n",
    "        \n",
    "        "
   ]
  },
  {
   "cell_type": "code",
   "execution_count": 3,
   "id": "a3ca562b",
   "metadata": {},
   "outputs": [
    {
     "name": "stdout",
     "output_type": "stream",
     "text": [
      "True\n",
      "False\n"
     ]
    }
   ],
   "source": [
    "num1 = 16\n",
    "num2 = 14\n",
    "\n",
    "\n",
    "sol = Solution()\n",
    "print(sol.isPerfectSquare(num1))\n",
    "print(sol.isPerfectSquare(num2))"
   ]
  },
  {
   "cell_type": "code",
   "execution_count": null,
   "id": "df94a511",
   "metadata": {},
   "outputs": [],
   "source": []
  }
 ],
 "metadata": {
  "kernelspec": {
   "display_name": "Python 3 (ipykernel)",
   "language": "python",
   "name": "python3"
  },
  "language_info": {
   "codemirror_mode": {
    "name": "ipython",
    "version": 3
   },
   "file_extension": ".py",
   "mimetype": "text/x-python",
   "name": "python",
   "nbconvert_exporter": "python",
   "pygments_lexer": "ipython3",
   "version": "3.9.12"
  }
 },
 "nbformat": 4,
 "nbformat_minor": 5
}
