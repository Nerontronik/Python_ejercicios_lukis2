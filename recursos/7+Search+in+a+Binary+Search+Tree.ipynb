{
 "cells": [
  {
   "attachments": {
    "tree1.jpg": {
     "image/jpeg": "[encoded data removed]"
    }
   },
   "cell_type": "markdown",
   "id": "84d66b86",
   "metadata": {},
   "source": [
    "<br><br>\n",
    "\n",
    "# Search in a Binary Search Tree\n",
    "\n",
    "<br><br>\n",
    "\n",
    "> You are given the `root` of a binary search tree (BST) and an integer `val`.\n",
    "\n",
    "> Find the node in the BST that the node's value equals `val` and return the subtree rooted with that node. If such a node does not exist, return `null`.\n",
    "\n",
    "<br>\n",
    " \n",
    " \n",
    " \n",
    "#### Example:\n",
    "<br>\n",
    "\n",
    "`Input: root = [4,2,7,1,3], val = 2`\n",
    "\n",
    "`Output: [2,1,3]`\n",
    "\n",
    "![tree1.jpg](attachment:tree1.jpg)\n",
    "\n",
    "<br><br><br><br><br><br><br><br><br><br><br><br>"
   ]
  },
  {
   "cell_type": "code",
   "execution_count": 1,
   "id": "bf3d7cef",
   "metadata": {},
   "outputs": [],
   "source": [
    "from typing import Optional"
   ]
  },
  {
   "cell_type": "code",
   "execution_count": 2,
   "id": "c217b910",
   "metadata": {},
   "outputs": [],
   "source": [
    "# Definition for a binary tree node.\n",
    "class TreeNode:\n",
    "    def __init__(self, val=0, left=None, right=None):\n",
    "        self.val = val\n",
    "        self.left = left\n",
    "        self.right = right\n",
    "\n",
    "        \n",
    "class Solution:\n",
    "    def searchBST(self, root: Optional[TreeNode], val: int) -> Optional[TreeNode]:\n",
    "        cur_node = root\n",
    "        while cur_node:\n",
    "            if cur_node.val == val:\n",
    "                return cur_node\n",
    "            elif val > cur_node.val:\n",
    "                cur_node = cur_node.right\n",
    "            else:\n",
    "                cur_node = cur_node.left\n",
    "        return None\n",
    "                \n",
    "    \n",
    "    \n",
    "    \n",
    "    \n",
    "    \n",
    "    def printTree(self, root: Optional[TreeNode]):       \n",
    "        def getHeight(node):\n",
    "            if not node: return 0\n",
    "            return 1 + max(getHeight(node.left), getHeight(node.right))\n",
    "\n",
    "        h = getHeight(root)\n",
    "        ans = [[\"\" for _ in range(2**h - 1)] for _ in range(h)]\n",
    "\n",
    "        def recur(node, l, r, i):\n",
    "            if not node or l > r: return\n",
    "            m = (l + r) // 2\n",
    "            ans[i][m] = f\"{node.val}\"\n",
    "            recur(node.left,l, m-1, i+1)\n",
    "            recur(node.right,m+1,r, i+1)\n",
    "\n",
    "        recur(root, 0, len(ans[0]), 0)\n",
    "        return ans"
   ]
  },
  {
   "cell_type": "code",
   "execution_count": 3,
   "id": "289b3f00",
   "metadata": {},
   "outputs": [
    {
     "data": {
      "text/plain": [
       "[['', '', '', '4', '', '', ''],\n",
       " ['', '2', '', '', '', '7', ''],\n",
       " ['1', '', '3', '', '', '', '']]"
      ]
     },
     "execution_count": 3,
     "metadata": {},
     "output_type": "execute_result"
    }
   ],
   "source": [
    "root = TreeNode(4)\n",
    "root.left = TreeNode(2)\n",
    "root.right = TreeNode(7)\n",
    "root.left.left = TreeNode(1)\n",
    "root.left.right = TreeNode(3)\n",
    "\n",
    "sol = Solution()\n",
    "   \n",
    "sol.searchBST(root, 2)\n",
    "\n",
    "sol.printTree(root)"
   ]
  },
  {
   "cell_type": "code",
   "execution_count": null,
   "id": "717e9e09",
   "metadata": {},
   "outputs": [],
   "source": []
  }
 ],
 "metadata": {
  "kernelspec": {
   "display_name": "Python 3 (ipykernel)",
   "language": "python",
   "name": "python3"
  },
  "language_info": {
   "codemirror_mode": {
    "name": "ipython",
    "version": 3
   },
   "file_extension": ".py",
   "mimetype": "text/x-python",
   "name": "python",
   "nbconvert_exporter": "python",
   "pygments_lexer": "ipython3",
   "version": "3.9.12"
  }
 },
 "nbformat": 4,
 "nbformat_minor": 5
}
