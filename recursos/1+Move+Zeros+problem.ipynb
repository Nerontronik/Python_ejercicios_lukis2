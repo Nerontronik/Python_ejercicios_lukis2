{
 "cells": [
  {
   "cell_type": "markdown",
   "id": "ff38b971",
   "metadata": {},
   "source": [
    "<br><br>\n",
    "\n",
    "# Move Zeroes\n",
    "\n",
    "> Given an integer array nums, move all 0's  \n",
    "> to the end of it while maintaining the relative\n",
    "> order of the non-zero elements.\n",
    "\n",
    "\n",
    "\n",
    "<br> <font color=\"red\">**Note that you must do this in-place \n",
    " without making a copy of the array.**</font>\n",
    "\n",
    " \n",
    " \n",
    " \n",
    "#### Example 1:\n",
    "\n",
    "`Input: nums = [0,1,0,3,12]`\n",
    "<br>\n",
    "`Output: [1,3,12,0,0]`\n",
    "\n",
    "#### Example 2:\n",
    "\n",
    "```Input: nums = [0]```\n",
    "<br>\n",
    "```Output: [0]```\n",
    "\n",
    "<br><br>"
   ]
  },
  {
   "cell_type": "markdown",
   "id": "eb26ed0b",
   "metadata": {},
   "source": [
    "<br>\n",
    "\n",
    "## input: [0,1,0,3,12]\n",
    "## output: [1,3,12,0,0]\n",
    "\n",
    "\n",
    "# [0,1,0,3,12]\n",
    "# [1,0,0,3,12]\n",
    "# [1,0,0,3,12]\n",
    "# [1,3,0,0,12]\n",
    "# [1,3,12,0,0]\n",
    "\n",
    "<br><br><br><br>"
   ]
  },
  {
   "cell_type": "code",
   "execution_count": null,
   "id": "33a98fb1",
   "metadata": {},
   "outputs": [],
   "source": [
    "from typing import List"
   ]
  },
  {
   "cell_type": "code",
   "execution_count": null,
   "id": "eb351c29",
   "metadata": {},
   "outputs": [],
   "source": [
    "\n",
    "class Solution:\n",
    "    def moveZeroes(self, nums: List[int]) -> None:\n",
    "        \"\"\"\n",
    "        Do not return anything, modify nums in-place instead.\n",
    "        \"\"\"\n",
    "        prev_idx = 0\n",
    "        for i in range(0, len(nums)):\n",
    "            if nums[i] != 0:\n",
    "                hold = nums[prev_idx]\n",
    "                nums[prev_idx] = nums[i]\n",
    "                nums[i] = hold\n",
    "                prev_idx += 1\n",
    "        return nums"
   ]
  },
  {
   "cell_type": "code",
   "execution_count": null,
   "id": "f321e4ab",
   "metadata": {},
   "outputs": [],
   "source": [
    "nums1 = [0,1,0,3,12]   \n",
    "nums2 = [8,1,0,0,21]\n",
    "nums3 = [0,5,0,74,0]\n",
    "\n",
    "sol = Solution()\n",
    "\n",
    "print(sol.moveZeroes(nums1))\n",
    "print(sol.moveZeroes(nums2))\n",
    "print(sol.moveZeroes(nums3))"
   ]
  },
  {
   "cell_type": "code",
   "execution_count": null,
   "id": "f243537d",
   "metadata": {},
   "outputs": [],
   "source": []
  }
 ],
 "metadata": {
  "kernelspec": {
   "display_name": "Python 3 (ipykernel)",
   "language": "python",
   "name": "python3"
  },
  "language_info": {
   "codemirror_mode": {
    "name": "ipython",
    "version": 3
   },
   "file_extension": ".py",
   "mimetype": "text/x-python",
   "name": "python",
   "nbconvert_exporter": "python",
   "pygments_lexer": "ipython3",
   "version": "3.9.12"
  }
 },
 "nbformat": 4,
 "nbformat_minor": 5
}
