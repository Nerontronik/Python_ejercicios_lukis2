{
 "cells": [
  {
   "cell_type": "markdown",
   "id": "3c71a00b",
   "metadata": {},
   "source": [
    "<br><br>\n",
    "\n",
    "# Jewels and Stones\n",
    "\n",
    "<br><br>\n",
    "\n",
    "> You're given strings `jewels` representing the types of `stones` that are jewels, and stones representing the stones you have. \n",
    "> Each character in `stones` is a type of stone you have. You want to know how many of the stones you have are also jewels.\n",
    "\n",
    ">> Letters are case sensitive, so `\"a\"` is considered a different type of stone from `\"A\"`.\n",
    "\n",
    "<br>\n",
    "\n",
    "### Example 1:\n",
    "\n",
    "`Input: jewels = \"aA\", stones = \"aAAbbbb\"`\n",
    "\n",
    "`Output: 3`\n",
    "\n",
    "<br>\n",
    "\n",
    "### Example 2:\n",
    "\n",
    "`Input: jewels = \"z\", stones = \"ZZ\"`\n",
    "\n",
    "`Output: 0`\n",
    "\n",
    "\n",
    "<br><br><br>\n",
    "\n",
    "\n",
    "# { 'a', 'A' }\n",
    "\n",
    "\n",
    "<br><br><br><br><br><br><br><br><br><br><br><br><br><br><br>"
   ]
  },
  {
   "cell_type": "code",
   "execution_count": 1,
   "id": "597fe111",
   "metadata": {},
   "outputs": [],
   "source": [
    "class Solution:\n",
    "    def numJewelsInStones(self, jewels: str, stones: str) -> int:\n",
    "        check_j = set(jewels)\n",
    "        total = 0\n",
    "        for st in stones:\n",
    "            if st in check_j:\n",
    "                total += 1\n",
    "        return total\n",
    "        \n",
    "        \n",
    "        "
   ]
  },
  {
   "cell_type": "code",
   "execution_count": 2,
   "id": "30e9a4a0",
   "metadata": {},
   "outputs": [
    {
     "data": {
      "text/plain": [
       "3"
      ]
     },
     "execution_count": 2,
     "metadata": {},
     "output_type": "execute_result"
    }
   ],
   "source": [
    "jewels = \"aA\"\n",
    "stones = \"aAAbbbb\"\n",
    "\n",
    "sol = Solution()\n",
    "sol.numJewelsInStones(jewels, stones)"
   ]
  },
  {
   "cell_type": "code",
   "execution_count": null,
   "id": "1097c4da",
   "metadata": {},
   "outputs": [],
   "source": []
  }
 ],
 "metadata": {
  "kernelspec": {
   "display_name": "Python 3 (ipykernel)",
   "language": "python",
   "name": "python3"
  },
  "language_info": {
   "codemirror_mode": {
    "name": "ipython",
    "version": 3
   },
   "file_extension": ".py",
   "mimetype": "text/x-python",
   "name": "python",
   "nbconvert_exporter": "python",
   "pygments_lexer": "ipython3",
   "version": "3.9.12"
  }
 },
 "nbformat": 4,
 "nbformat_minor": 5
}
