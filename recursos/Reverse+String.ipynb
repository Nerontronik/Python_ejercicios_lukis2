{
 "cells": [
  {
   "cell_type": "markdown",
   "id": "56bf7f06",
   "metadata": {},
   "source": [
    "<br><br>\n",
    "\n",
    "# Reverse String\n",
    "\n",
    "<br><br>\n",
    "\n",
    "> Write a function that reverses a string. \n",
    "> The input string is given as an array of characters s.\n",
    "\n",
    "<br><br> \n",
    "\n",
    "<font color=\"red\">**You must do this by modifying the input \n",
    "array in-place with O(1) extra memory.**</font>\n",
    "\n",
    "<br>\n",
    " \n",
    " \n",
    " \n",
    "#### Example:\n",
    "<br>\n",
    "\n",
    "# Input:  [  \"h\",  \"e\",  \"l\",  \"l\",  \"o\"  ]\n",
    "\n",
    "<br><br>\n",
    "\n",
    "# Output: [  \"o\",  \"l\",  \"l\",  \"e\",  \"h\"  ]\n",
    "\n",
    "<br>\n",
    "\n",
    "\n",
    "<br><br>\n",
    "\n",
    "## Solution\n",
    "\n",
    "<br>\n",
    "\n",
    "`Time Complexity O(N)`\n",
    "\n",
    "\n",
    "`Space Complexity O(1)`\n",
    "\n",
    "<br><br><br><br><br><br><br>"
   ]
  },
  {
   "cell_type": "code",
   "execution_count": null,
   "id": "97cf5be4",
   "metadata": {},
   "outputs": [],
   "source": [
    "from typing import List"
   ]
  },
  {
   "cell_type": "code",
   "execution_count": null,
   "id": "454278eb",
   "metadata": {},
   "outputs": [],
   "source": [
    "class Solution:\n",
    "    def reverseString(self, s: List[str]) -> None:\n",
    "        \"\"\"\n",
    "        Do not return anything, modify s in-place instead.\n",
    "        \"\"\"\n",
    "        left = 0\n",
    "        right = len(s) - 1\n",
    "        \n",
    "        while left < right:\n",
    "            hold = s[left]\n",
    "            s[left] = s[right]\n",
    "            s[right] = hold\n",
    "            left +=1\n",
    "            right -=1\n",
    "            \n",
    "        return s\n",
    "            \n",
    "        "
   ]
  },
  {
   "cell_type": "code",
   "execution_count": null,
   "id": "18b51d61",
   "metadata": {},
   "outputs": [],
   "source": [
    "s = [\"h\",\"e\",\"l\",\"l\",\"o\"]\n",
    "\n",
    "sol = Solution()\n",
    "\n",
    "sol.reverseString(s)"
   ]
  },
  {
   "cell_type": "code",
   "execution_count": null,
   "id": "238c453f",
   "metadata": {},
   "outputs": [],
   "source": []
  }
 ],
 "metadata": {
  "kernelspec": {
   "display_name": "Python 3 (ipykernel)",
   "language": "python",
   "name": "python3"
  },
  "language_info": {
   "codemirror_mode": {
    "name": "ipython",
    "version": 3
   },
   "file_extension": ".py",
   "mimetype": "text/x-python",
   "name": "python",
   "nbconvert_exporter": "python",
   "pygments_lexer": "ipython3",
   "version": "3.9.12"
  }
 },
 "nbformat": 4,
 "nbformat_minor": 5
}
