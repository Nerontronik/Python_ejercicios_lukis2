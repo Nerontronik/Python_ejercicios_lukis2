{
 "cells": [
  {
   "cell_type": "markdown",
   "id": "36296ed1",
   "metadata": {},
   "source": [
    "<br><br>\n",
    "\n",
    "# Single Number\n",
    "\n",
    "<br><br>\n",
    "\n",
    "> Given a non-empty array of integers `nums`, every element appears twice except for one. Find that single one.\n",
    "\n",
    "> You must implement a solution with a linear runtime complexity and use only constant extra space.\n",
    "\n",
    "<br>\n",
    " \n",
    " \n",
    " \n",
    "#### Example 1:\n",
    "<br>\n",
    "\n",
    "`Input: nums = [2,2,1]`\n",
    "\n",
    "`Output: 1`\n",
    "\n",
    "<br>\n",
    "\n",
    "`Input: nums = [4,1,2,1,2]`\n",
    "\n",
    "`Output: 4`\n",
    "\n",
    "\n",
    "<br><br><br><br><br><br><br><br><br><br><br><br><br><br><br><br><br><br>"
   ]
  },
  {
   "cell_type": "code",
   "execution_count": 1,
   "id": "1bed5a1c",
   "metadata": {},
   "outputs": [],
   "source": [
    "from typing import List"
   ]
  },
  {
   "cell_type": "code",
   "execution_count": 2,
   "id": "20405e7d",
   "metadata": {},
   "outputs": [],
   "source": [
    "class Solution:\n",
    "    def singleNumber(self, nums: List[int]) -> int:\n",
    "        acc = 0\n",
    "        for num in nums:\n",
    "            acc ^= num\n",
    "        return acc\n",
    "        \n",
    "        "
   ]
  },
  {
   "cell_type": "code",
   "execution_count": 3,
   "id": "fec220b0",
   "metadata": {},
   "outputs": [
    {
     "name": "stdout",
     "output_type": "stream",
     "text": [
      "4\n"
     ]
    }
   ],
   "source": [
    "nums = [4,1,2,1,2]\n",
    "\n",
    "sol = Solution()\n",
    "\n",
    "print(sol.singleNumber(nums))"
   ]
  },
  {
   "cell_type": "markdown",
   "id": "c4a27e8c",
   "metadata": {},
   "source": [
    "<br><br><br><br><br><br><br><br><br><br><br>\n",
    "\n",
    "\n",
    "<br>\n",
    "\n",
    "# 100^100\n",
    " \n",
    "\n",
    "<br><br>\n",
    "\n",
    "## a | b | a^b\n",
    "## 0 | 0 | 0\n",
    "## 0 | 1 | 1\n",
    "## 1 | 0 | 1\n",
    "## 1 | 1 | 0\n",
    "\n",
    "\n",
    "\n",
    "\n",
    "<br><br><br><br><br><br><br><br><br><br><br><br>"
   ]
  }
 ],
 "metadata": {
  "kernelspec": {
   "display_name": "Python 3 (ipykernel)",
   "language": "python",
   "name": "python3"
  },
  "language_info": {
   "codemirror_mode": {
    "name": "ipython",
    "version": 3
   },
   "file_extension": ".py",
   "mimetype": "text/x-python",
   "name": "python",
   "nbconvert_exporter": "python",
   "pygments_lexer": "ipython3",
   "version": "3.9.12"
  }
 },
 "nbformat": 4,
 "nbformat_minor": 5
}
